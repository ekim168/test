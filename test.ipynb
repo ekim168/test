{
  "nbformat": 4,
  "nbformat_minor": 0,
  "metadata": {
    "colab": {
      "provenance": []
    },
    "kernelspec": {
      "name": "python3",
      "display_name": "Python 3"
    },
    "language_info": {
      "name": "python"
    }
  },
  "cells": [
    {
      "cell_type": "code",
      "execution_count": null,
      "metadata": {
        "id": "5bZuHgBpVSpc"
      },
      "outputs": [],
      "source": []
    },
    {
      "cell_type": "markdown",
      "source": [
        "# Section 1\n",
        "## Subsection A\n",
        "\n",
        "**bold text**\n",
        "\n",
        "*italic text*"
      ],
      "metadata": {
        "id": "FQoiDV4LAUQ_"
      }
    },
    {
      "cell_type": "code",
      "source": [],
      "metadata": {
        "id": "nK0F3WbvEqkE"
      },
      "execution_count": null,
      "outputs": []
    },
    {
      "cell_type": "code",
      "source": [],
      "metadata": {
        "id": "WkoPR-3TEqls"
      },
      "execution_count": null,
      "outputs": []
    }
  ]
}